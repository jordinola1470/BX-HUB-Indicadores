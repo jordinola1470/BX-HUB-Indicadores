{
 "cells": [
  {
   "cell_type": "code",
   "execution_count": 155,
   "metadata": {},
   "outputs": [],
   "source": [
    "import pandas as pd\n",
    "import numpy as np\n",
    "\n",
    "import warnings\n",
    "\n",
    "warnings.filterwarnings('ignore')\n"
   ]
  },
  {
   "cell_type": "code",
   "execution_count": 156,
   "metadata": {},
   "outputs": [],
   "source": [
    "#BASES\n",
    "colombia = pd.read_excel('Pico_marcacion_Colombia.xlsx') \n",
    "colombia['Pais'] = 'Colombia'\n",
    "\n",
    "peru     = pd.read_excel('Pico_marcacion_Peru.xlsx')\n",
    "peru['Pais'] = 'Peru'\n",
    "\n",
    "ecuador  = pd.read_excel('Pico_marcacion_Ecuador.xlsx')\n",
    "ecuador['Pais'] = 'Ecuador'"
   ]
  },
  {
   "cell_type": "code",
   "execution_count": 157,
   "metadata": {},
   "outputs": [],
   "source": [
    "def resultados(df):\n",
    "\n",
    "   df = df[df[df.columns[6]] == 0]\n",
    "   df[df.columns[6]] = np.where(df[df.columns[6]]==0,1,0)\n",
    "   df.columns = df.columns.str.strip()\n",
    "\n",
    "   #Fecha Pico\n",
    "   df['Fecha pico'] = pd.to_datetime(df['Date'])\n",
    "\n",
    "   df['Dia'] = df['Fecha pico'].dt.day\n",
    "   df['Mes'] = df['Fecha pico'].dt.month\n",
    "\n",
    "   meses_ingles_a_espanol = {\n",
    "   1: 'Ene', 2: 'Feb', 3: 'Mar', 4: 'Abr',\n",
    "   5: 'May', 6: 'Jun', 7: 'Jul', 8: 'Ago',\n",
    "   9: 'Sep', 10: 'Oct', 11: 'Nov', 12: 'Dic'}\n",
    "\n",
    "   df['Mes'] = df['Mes'].map(meses_ingles_a_espanol)\n",
    "   df['Dia'] = [str(x) for x in df['Dia']]\n",
    "   df['Fecha pico'] = df['Mes'] + '-' + df['Dia']\n",
    "\n",
    "   #Agrupamiento\n",
    "   df = df.groupby(by=['Pais','Fecha pico'])[['Llamados a la acción', 'Sanciones',\n",
    "      'Insultos', 'No es Xenofobia', 'Impact', 'Impressions']].sum()\n",
    "   \n",
    "\n",
    "   df.rename(columns = {'No es Xenofobia':'Xenofobia',\n",
    "                        'Impact':'Total impacto de publicaciones',\n",
    "                        'Impressions':'Total Impresiones (veces que se vieron estos mensajes)'},inplace=True)\n",
    "   \n",
    "   df[['% Llamados a la acción','% Sanciones Judiciales','% Insultos']] = 0     \n",
    "\n",
    "   df.reset_index(inplace=True)\n",
    "   \n",
    "   #Calculo de estadisticos\n",
    "\n",
    "   df['% Llamados a la acción'] = (df['Llamados a la acción'] / df['Xenofobia']) * 100\n",
    "   df['% Sanciones Judiciales'] = (df['Sanciones'] / df['Xenofobia']) * 100\n",
    "   df['% Insultos'] = (df['Insultos'] / df['Xenofobia']) * 100\n",
    "\n",
    "\n",
    "   #Organizado\n",
    "\n",
    "   df = df[['Pais','Llamados a la acción', 'Sanciones', 'Insultos','Fecha pico',\n",
    "            'Total impacto de publicaciones','Total Impresiones (veces que se vieron estos mensajes)','Xenofobia', \n",
    "            '% Llamados a la acción', '% Sanciones Judiciales', '% Insultos']]\n",
    "\n",
    "   df[['% Llamados a la acción', '% Sanciones Judiciales', '% Insultos']] = (df[['% Llamados a la acción', '% Sanciones Judiciales', '% Insultos']]).applymap(lambda x: f'{x:.0f}%')\n",
    "\n",
    "\n",
    "   return df"
   ]
  },
  {
   "cell_type": "code",
   "execution_count": 158,
   "metadata": {},
   "outputs": [],
   "source": [
    "# Resultados\n",
    "\n",
    "colombia,peru,ecuador = resultados(colombia),resultados(peru),resultados(ecuador)\n",
    "\n",
    "picos = pd.concat([colombia,peru,ecuador])\n",
    "\n",
    "picos.to_csv('pico_xenofobia_limpio.csv',index=False)"
   ]
  }
 ],
 "metadata": {
  "kernelspec": {
   "display_name": "Python 3",
   "language": "python",
   "name": "python3"
  },
  "language_info": {
   "codemirror_mode": {
    "name": "ipython",
    "version": 3
   },
   "file_extension": ".py",
   "mimetype": "text/x-python",
   "name": "python",
   "nbconvert_exporter": "python",
   "pygments_lexer": "ipython3",
   "version": "3.11.5"
  },
  "orig_nbformat": 4,
  "vscode": {
   "interpreter": {
    "hash": "40d3a090f54c6569ab1632332b64b2c03c39dcf918b08424e98f38b5ae0af88f"
   }
  }
 },
 "nbformat": 4,
 "nbformat_minor": 2
}
