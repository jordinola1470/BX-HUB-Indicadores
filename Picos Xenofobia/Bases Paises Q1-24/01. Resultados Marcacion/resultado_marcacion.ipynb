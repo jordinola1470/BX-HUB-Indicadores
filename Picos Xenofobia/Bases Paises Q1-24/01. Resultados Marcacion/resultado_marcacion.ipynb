{
 "cells": [
  {
   "cell_type": "code",
   "execution_count": 31,
   "metadata": {},
   "outputs": [],
   "source": [
    "import pandas as pd\n",
    "import numpy as np\n",
    "\n",
    "import warnings\n",
    "\n",
    "warnings.filterwarnings('ignore')\n"
   ]
  },
  {
   "cell_type": "code",
   "execution_count": 32,
   "metadata": {},
   "outputs": [],
   "source": [
    "#BASES\n",
    "colombia = pd.read_excel('Pico_marcacion_Colombia.xlsx') \n",
    "colombia.drop(columns='Country',inplace=True)\n",
    "colombia['Pais'] = 'Colombia'\n",
    "\n",
    "peru     = pd.read_excel('Pico_marcacion_Peru.xlsx')\n",
    "peru.drop(columns='Country',inplace=True)\n",
    "peru['Pais'] = 'Peru'\n",
    "\n",
    "ecuador  = pd.read_excel('Pico_marcacion_Ecuador.xlsx')\n",
    "ecuador.drop(columns='Country',inplace=True)\n",
    "ecuador['Pais'] = 'Ecuador'"
   ]
  },
  {
   "cell_type": "code",
   "execution_count": 33,
   "metadata": {},
   "outputs": [
    {
     "data": {
      "text/plain": [
       "2024-01-10 02:27:54.0    3\n",
       "2024-01-10 02:58:55.0    2\n",
       "2024-01-10 02:42:49.0    2\n",
       "2024-01-10 02:47:28.0    2\n",
       "2024-01-10 03:13:51.0    2\n",
       "                        ..\n",
       "2024-01-10 21:02:12.0    1\n",
       "2024-01-10 21:03:12.0    1\n",
       "2024-01-10 21:11:06.0    1\n",
       "2024-01-10 21:11:40.0    1\n",
       "2024-01-08 05:00:00.0    1\n",
       "Name: Date, Length: 1455, dtype: int64"
      ]
     },
     "execution_count": 33,
     "metadata": {},
     "output_type": "execute_result"
    }
   ],
   "source": [
    "ecuador['Date'].value_counts()"
   ]
  },
  {
   "cell_type": "code",
   "execution_count": 34,
   "metadata": {},
   "outputs": [],
   "source": [
    "def resultados(df):\n",
    "\n",
    "   df = df[df[df.columns[6]] == 0]\n",
    "   df[df.columns[6]] = np.where(df[df.columns[6]]==0,1,0)\n",
    "   df.columns = df.columns.str.strip()\n",
    "\n",
    "\n",
    "   #Fecha Pico\n",
    "   df['Fecha pico'] = pd.to_datetime(df['Date'])\n",
    "\n",
    "   df['Dia'] = df['Fecha pico'].dt.day\n",
    "   df['Mes'] = df['Fecha pico'].dt.month\n",
    "   df['Ano'] = df['Fecha pico'].dt.year\n",
    "\n",
    "   meses_ingles_a_espanol = {\n",
    "   1: 'Ene', 2: 'Feb', 3: 'Mar', 4: 'Abr',\n",
    "   5: 'May', 6: 'Jun', 7: 'Jul', 8: 'Ago',\n",
    "   9: 'Sep', 10: 'Oct', 11: 'Nov', 12: 'Dic'}\n",
    "\n",
    "   df['Mes'] = df['Mes'].map(meses_ingles_a_espanol)\n",
    "   df['Dia'] = [str(x) for x in df['Dia']]\n",
    "   df['Ano'] = [str(x) for x in df['Ano']]\n",
    "   \n",
    "   df['Fecha pico'] = df['Dia'] + '-' + df['Mes'] + '-' + df['Ano']\n",
    "\n",
    "   #Agrupamiento\n",
    "   df = df.groupby(by=['Pais','Fecha pico'])[['Llamados a la acción', 'Sanciones Judiciales',\n",
    "      'Insultos', 'No es Xenofobia', 'Impact', 'Impressions']].sum()\n",
    "   \n",
    "\n",
    "   df.rename(columns = {'No es Xenofobia':'Xenofobia',\n",
    "                        'Impact':'Total impacto de publicaciones',\n",
    "                        'Impressions':'Total Impresiones (veces que se vieron estos mensajes)',\n",
    "                        'Sanciones Judiciales':'Sanciones'},inplace=True)\n",
    "   \n",
    "   df[['% Llamados a la acción','% Sanciones Judiciales','% Insultos']] = 0     \n",
    "\n",
    "   df.reset_index(inplace=True)\n",
    "   \n",
    "   #Calculo de estadisticos\n",
    "\n",
    "   df['% Llamados a la acción'] = [(0 if a == 0 else a / b * 100) for a, b in zip(df['Llamados a la acción'], df['Xenofobia'])]\n",
    "   df['% Sanciones Judiciales'] = [(0 if a == 0 else a / b * 100) for a, b in zip(df['Sanciones'], df['Xenofobia'])]\n",
    "   df['% Insultos'] = [(0 if a == 0 else a / b * 100) for a, b in zip(df['Insultos'], df['Xenofobia'])]\n",
    "\n",
    "\n",
    "   #Organizado\n",
    "\n",
    "   df = df[['Pais','Llamados a la acción', 'Sanciones', 'Insultos','Fecha pico',\n",
    "            'Total impacto de publicaciones','Total Impresiones (veces que se vieron estos mensajes)','Xenofobia', \n",
    "            '% Llamados a la acción', '% Sanciones Judiciales', '% Insultos']]\n",
    "\n",
    "   df[['% Llamados a la acción', '% Sanciones Judiciales', '% Insultos']] = (df[['% Llamados a la acción', '% Sanciones Judiciales', '% Insultos']]).applymap(lambda x: f'{x:.0f}%')\n",
    "\n",
    "   # df['Total impacto de publicaciones']  = df['Total impacto de publicaciones'].astype(str)\n",
    "   df['Total impacto de publicaciones']  = df['Total impacto de publicaciones'].round(2)\n",
    "\n",
    "   return df"
   ]
  },
  {
   "cell_type": "code",
   "execution_count": 35,
   "metadata": {},
   "outputs": [],
   "source": [
    "# Resultados\n",
    "\n",
    "colombia,peru,ecuador = resultados(colombia),resultados(peru),resultados(ecuador)\n",
    "\n",
    "picos = pd.concat([colombia,peru,ecuador])\n",
    "\n",
    "picos.to_csv('pico_xenofobia_limpio.csv',index=False)"
   ]
  }
 ],
 "metadata": {
  "kernelspec": {
   "display_name": "Python 3",
   "language": "python",
   "name": "python3"
  },
  "language_info": {
   "codemirror_mode": {
    "name": "ipython",
    "version": 3
   },
   "file_extension": ".py",
   "mimetype": "text/x-python",
   "name": "python",
   "nbconvert_exporter": "python",
   "pygments_lexer": "ipython3",
   "version": "3.9.13"
  },
  "orig_nbformat": 4,
  "vscode": {
   "interpreter": {
    "hash": "40d3a090f54c6569ab1632332b64b2c03c39dcf918b08424e98f38b5ae0af88f"
   }
  }
 },
 "nbformat": 4,
 "nbformat_minor": 2
}
