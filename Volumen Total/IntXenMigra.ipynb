{
 "cells": [
  {
   "cell_type": "code",
   "execution_count": 13,
   "metadata": {},
   "outputs": [],
   "source": [
    "import pandas as pd"
   ]
  },
  {
   "cell_type": "code",
   "execution_count": 26,
   "metadata": {},
   "outputs": [],
   "source": [
    "#ULTIMO REPORTE - HISTORICO (en formato xlsx para evitar problemas de importacion)\n",
    "ind_hub_hist = pd.read_excel('IntegracionXenofobiaMigracionHub_032023.xlsx')\n",
    "ind_hub_hist.rename(columns={'Pais ':'Pais'},inplace=True)"
   ]
  },
  {
   "cell_type": "code",
   "execution_count": 16,
   "metadata": {},
   "outputs": [],
   "source": [
    "#DATA TRIMESTRAL\n",
    "#Colombia\n",
    "col_querie = pd.read_excel('Colombia/Q2_2023/chart_data-volume-weeks-queries.xlsx',header=9)\n",
    "col_catego = pd.read_excel('Colombia/Q2_2023/chart_data-volume-weeks-categories.xlsx',header=9)\n",
    "\n",
    "#Ecuador\n",
    "ecu_querie = pd.read_excel('Ecuador/Q2_2023/chart_data-volume-weeks-queries.xlsx',header=9)\n",
    "ecu_catego = pd.read_excel('Ecuador/Q2_2023/chart_data-volume-weeks-categories.xlsx',header=9)\n",
    "\n",
    "#Peru\n",
    "per_querie = pd.read_excel('Peru/Q2_2023/chart_data-volume-weeks-queries.xlsx',header=9)\n",
    "per_catego = pd.read_excel('Peru/Q2_2023/chart_data-volume-weeks-categories.xlsx',header=9)\n"
   ]
  },
  {
   "cell_type": "code",
   "execution_count": 17,
   "metadata": {},
   "outputs": [],
   "source": [
    "#FUNCIONES\n",
    "def estructura_querie(df_querie, df_catego):\n",
    "    \n",
    "    def melt(df):\n",
    "        df = pd.melt(df,id_vars=df.columns[0],value_vars=df.columns[1:])\n",
    "        df.rename(columns={'variable':'Fecha','value':'Dato'},inplace=True)\n",
    "        return df\n",
    "\n",
    "    df_querie,df_catego = melt(df_querie),melt(df_catego)\n",
    "    \n",
    "    df_querie.insert(1,'Variable','Total Migracion')\n",
    "    df_querie.rename(columns={'weeks':'Pais'},inplace=True)\n",
    "\n",
    "    pais = df_querie.iloc[0,0]\n",
    "    df_catego.insert(0,'Pais',pais)\n",
    "    df_catego.rename(columns={'weeks':'Variable'},inplace=True)\n",
    "\n",
    "    df = pd.concat([df_querie,df_catego])\n",
    "    \n",
    "    df.sort_values(by='Variable',inplace=True)\n",
    "\n",
    "    return df"
   ]
  },
  {
   "cell_type": "code",
   "execution_count": 18,
   "metadata": {},
   "outputs": [],
   "source": [
    "#INDICADOR PAIS\n",
    "colombia = estructura_querie(col_querie,col_catego)\n",
    "ecuador = estructura_querie(ecu_querie,ecu_catego)\n",
    "peru = estructura_querie(per_querie,per_catego)"
   ]
  },
  {
   "cell_type": "code",
   "execution_count": 28,
   "metadata": {},
   "outputs": [],
   "source": [
    "#INDICADOR HUB TRIMESTRAL\n",
    "\n",
    "ind_hub_trimestre = pd.concat([colombia,ecuador,peru])\n",
    "ind_hub_historico = pd.concat([ind_hub_hist,ind_hub_trimestre])\n",
    "\n",
    "ind_hub_historico.to_csv('IntegracionXenofobiaMigracionHub_062023.csv',index=False)"
   ]
  }
 ],
 "metadata": {
  "kernelspec": {
   "display_name": "Python 3",
   "language": "python",
   "name": "python3"
  },
  "language_info": {
   "codemirror_mode": {
    "name": "ipython",
    "version": 3
   },
   "file_extension": ".py",
   "mimetype": "text/x-python",
   "name": "python",
   "nbconvert_exporter": "python",
   "pygments_lexer": "ipython3",
   "version": "3.9.13"
  },
  "orig_nbformat": 4,
  "vscode": {
   "interpreter": {
    "hash": "40d3a090f54c6569ab1632332b64b2c03c39dcf918b08424e98f38b5ae0af88f"
   }
  }
 },
 "nbformat": 4,
 "nbformat_minor": 2
}
