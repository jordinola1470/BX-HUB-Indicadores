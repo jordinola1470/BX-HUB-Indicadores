{
 "cells": [
  {
   "cell_type": "code",
   "execution_count": 1,
   "metadata": {},
   "outputs": [],
   "source": [
    "import pandas as pd"
   ]
  },
  {
   "cell_type": "code",
   "execution_count": 2,
   "metadata": {},
   "outputs": [],
   "source": [
    "#DATA HISTORICA\n",
    "hub_historico = pd.read_excel('/Users/admin/Documents/Documentos El Barometro/GitHub/BX-HUB-Indicadores/01. HUB/volumen & xenofobia/volumen menciones/volumen_hub.xlsx')"
   ]
  },
  {
   "cell_type": "code",
   "execution_count": 6,
   "metadata": {},
   "outputs": [],
   "source": [
    "#DATA TRIMESTRAL\n",
    "#Colombia\n",
    "col_querie = pd.read_excel('/Users/admin/Documents/Documentos El Barometro/GitHub/BX-HUB-Indicadores/01. HUB/volumen & xenofobia/bases/2025 Q2/colombia_queries.xlsx',header=9)\n",
    "col_catego = pd.read_excel('/Users/admin/Documents/Documentos El Barometro/GitHub/BX-HUB-Indicadores/01. HUB/volumen & xenofobia/bases/2025 Q2/colombia_categories.xlsx',header=9)\n",
    "\n",
    "# #Ecuador\n",
    "ecu_querie = pd.read_excel('/Users/admin/Documents/Documentos El Barometro/GitHub/BX-HUB-Indicadores/01. HUB/volumen & xenofobia/bases/2025 Q2/ecuador_queries.xlsx',header=9)\n",
    "ecu_catego = pd.read_excel('/Users/admin/Documents/Documentos El Barometro/GitHub/BX-HUB-Indicadores/01. HUB/volumen & xenofobia/bases/2025 Q2/ecuador_categories.xlsx',header=9)\n",
    "\n",
    "#Peru\n",
    "per_querie = pd.read_excel('/Users/admin/Documents/Documentos El Barometro/GitHub/BX-HUB-Indicadores/01. HUB/volumen & xenofobia/bases/2025 Q2/peru_queries.xlsx',header=9)\n",
    "per_catego = pd.read_excel('/Users/admin/Documents/Documentos El Barometro/GitHub/BX-HUB-Indicadores/01. HUB/volumen & xenofobia/bases/2025 Q2/peru_categories.xlsx',header=9)\n",
    "\n",
    "#Chile\n",
    "chi_querie = pd.read_excel('/Users/admin/Documents/Documentos El Barometro/GitHub/BX-HUB-Indicadores/01. HUB/volumen & xenofobia/bases/2025 Q2/chile_queries.xlsx',header=9)\n",
    "chi_catego = pd.read_excel('/Users/admin/Documents/Documentos El Barometro/GitHub/BX-HUB-Indicadores/01. HUB/volumen & xenofobia/bases/2025 Q2/chile_categories.xlsx',header=9)"
   ]
  },
  {
   "cell_type": "code",
   "execution_count": 17,
   "metadata": {},
   "outputs": [],
   "source": [
    "#FUNCIONES\n",
    "def estructura_querie(df_querie, df_catego):\n",
    "    \n",
    "    def melt(df):\n",
    "        df = pd.melt(df,id_vars=df.columns[0],value_vars=df.columns[1:])\n",
    "        df.rename(columns={'variable':'Fecha','value':'Dato'},inplace=True)\n",
    "        return df\n",
    "\n",
    "    df_querie,df_catego = melt(df_querie),melt(df_catego)\n",
    "    \n",
    "    df_querie.insert(1,'Variable','Total Migracion')\n",
    "    df_querie.rename(columns={'weeks':'Pais'},inplace=True)\n",
    "\n",
    "    pais = df_querie.iloc[0,0]\n",
    "    df_catego.insert(0,'Pais',pais)\n",
    "    df_catego.rename(columns={'weeks':'Variable'},inplace=True)\n",
    "\n",
    "    df = pd.concat([df_querie,df_catego])\n",
    "    \n",
    "    df.sort_values(by='Variable',inplace=True)\n",
    "\n",
    "    return df"
   ]
  },
  {
   "cell_type": "code",
   "execution_count": 18,
   "metadata": {},
   "outputs": [],
   "source": [
    "#INDICADOR PAIS\n",
    "colombia   = estructura_querie(col_querie,col_catego)\n",
    "chile      = estructura_querie(chi_querie,chi_catego)   \n",
    "ecuador    = estructura_querie(ecu_querie,ecu_catego)\n",
    "peru       = estructura_querie(per_querie,per_catego)"
   ]
  },
  {
   "cell_type": "code",
   "execution_count": 19,
   "metadata": {},
   "outputs": [],
   "source": [
    "#INDICADOR HUB TRIMESTRAL\n",
    "\n",
    "quarter_hub = pd.concat([colombia,chile,ecuador,peru])\n",
    "quarter_hub = quarter_hub.sort_values(by=['Variable','Pais','Fecha'])\n",
    "ind_hub = pd.concat([hub_historico,quarter_hub])\n",
    "ind_hub.sort_values(by=['Pais','Variable','Fecha'],inplace=True)\n",
    "ind_hub.to_excel('volumen_hub_last_update.xlsx',index=False)"
   ]
  }
 ],
 "metadata": {
  "kernelspec": {
   "display_name": "Python 3",
   "language": "python",
   "name": "python3"
  },
  "language_info": {
   "codemirror_mode": {
    "name": "ipython",
    "version": 3
   },
   "file_extension": ".py",
   "mimetype": "text/x-python",
   "name": "python",
   "nbconvert_exporter": "python",
   "pygments_lexer": "ipython3",
   "version": "3.11.5"
  },
  "orig_nbformat": 4,
  "vscode": {
   "interpreter": {
    "hash": "40d3a090f54c6569ab1632332b64b2c03c39dcf918b08424e98f38b5ae0af88f"
   }
  }
 },
 "nbformat": 4,
 "nbformat_minor": 2
}
