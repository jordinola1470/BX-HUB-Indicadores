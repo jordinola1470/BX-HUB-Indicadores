{
 "cells": [
  {
   "cell_type": "code",
   "execution_count": 1,
   "metadata": {},
   "outputs": [],
   "source": [
    "import pandas as pd"
   ]
  },
  {
   "cell_type": "code",
   "execution_count": 2,
   "metadata": {},
   "outputs": [],
   "source": [
    "#BASES\n",
    "# colombia = pd.read_excel('/Users/josealonsoordinolaaucca/Documents/Documentos Barometro Xenofobia/BX-Hub/Picos Xenofobia/Bases Paises/Q223pico_xeno_colombia.xlsx',header=8) \n",
    "# peru     = pd.read_excel('/Users/josealonsoordinolaaucca/Documents/Documentos Barometro Xenofobia/BX-Hub/Picos Xenofobia/Bases Paises/Q223pico_xeno_ecuador.xlsx',header=8)\n",
    "# ecuador  = pd.read_excel('/Users/josealonsoordinolaaucca/Documents/Documentos Barometro Xenofobia/BX-Hub/Picos Xenofobia/Bases Paises/Q223pico_xeno_peru.xlsx',header=8)"
   ]
  },
  {
   "cell_type": "code",
   "execution_count": 15,
   "metadata": {},
   "outputs": [],
   "source": [
    "colombia = pd.read_excel(\"/Users/admin/Documents/Documentos Barometro/GitHub/BX-HUB-Indicadores/01. HUB/volumen & xenofobia/tasa xenobia/picos xenofobia/2023/Bases Paises Q2-23/Marcacion/Pico_marcacion_Colombia.xlsx\")\n",
    "ecuador  = pd.read_excel(\"/Users/admin/Documents/Documentos Barometro/GitHub/BX-HUB-Indicadores/01. HUB/volumen & xenofobia/tasa xenobia/picos xenofobia/2023/Bases Paises Q2-23/Marcacion/Pico_marcacion_Ecuador.xlsx\")\n",
    "peru     = pd.read_excel(\"/Users/admin/Documents/Documentos Barometro/GitHub/BX-HUB-Indicadores/01. HUB/volumen & xenofobia/tasa xenobia/picos xenofobia/2023/Bases Paises Q2-23/Marcacion/Pico_marcacion_Peru.xlsx\")"
   ]
  },
  {
   "cell_type": "code",
   "execution_count": 19,
   "metadata": {},
   "outputs": [],
   "source": [
    "cons_Q22023 = pd.concat([colombia,ecuador,peru]) "
   ]
  },
  {
   "cell_type": "code",
   "execution_count": 21,
   "metadata": {},
   "outputs": [
    {
     "data": {
      "text/plain": [
       "No es Xenofobia\n",
       "0    497\n",
       "1    142\n",
       "Name: count, dtype: int64"
      ]
     },
     "execution_count": 21,
     "metadata": {},
     "output_type": "execute_result"
    }
   ],
   "source": [
    "cons_Q22023['No es Xenofobia'].value_counts()"
   ]
  },
  {
   "cell_type": "code",
   "execution_count": 11,
   "metadata": {},
   "outputs": [],
   "source": [
    "#FUNCION\n",
    "def picos_xenofobia(df):\n",
    "    df[['Llamados a la acción',\t'Sanciones Judiciales',\t'Insultos','No es Xenofobia']] = 0 \n",
    "    df = df[['Date', 'Title', 'Snippet',    \n",
    "            'Llamados a la acción',\t'Sanciones Judiciales',\t'Insultos','No es Xenofobia',\n",
    "            'Impact', 'Impressions']]\n",
    "    return df"
   ]
  },
  {
   "cell_type": "code",
   "execution_count": 12,
   "metadata": {},
   "outputs": [],
   "source": [
    "#ESTRUCTURA DE BASES\n",
    "picos_xenofobia_colombia,picos_xenofobia_ecuador,picos_xenofobia_peru = picos_xenofobia(colombia),picos_xenofobia(ecuador),picos_xenofobia(peru)"
   ]
  },
  {
   "cell_type": "code",
   "execution_count": 14,
   "metadata": {},
   "outputs": [],
   "source": [
    "#BASES PARA LA MARCACION EN .XLSX\n",
    "\n",
    "picos_xenofobia_colombia.to_excel('/Users/josealonsoordinolaaucca/Documents/Documentos Barometro Xenofobia/BX-Hub/Picos Xenofobia/pico_marcacion_colombia.xlsx',index=False)\n",
    "picos_xenofobia_ecuador.to_excel('/Users/josealonsoordinolaaucca/Documents/Documentos Barometro Xenofobia/BX-Hub/Picos Xenofobia/pico_marcacion_ecuador.xlsx',index=False)\n",
    "picos_xenofobia_peru.to_excel('/Users/josealonsoordinolaaucca/Documents/Documentos Barometro Xenofobia/BX-Hub/Picos Xenofobia/pico_marcacion_peru.xlsx',index=False)"
   ]
  }
 ],
 "metadata": {
  "kernelspec": {
   "display_name": "Python 3",
   "language": "python",
   "name": "python3"
  },
  "language_info": {
   "codemirror_mode": {
    "name": "ipython",
    "version": 3
   },
   "file_extension": ".py",
   "mimetype": "text/x-python",
   "name": "python",
   "nbconvert_exporter": "python",
   "pygments_lexer": "ipython3",
   "version": "3.11.5"
  },
  "orig_nbformat": 4,
  "vscode": {
   "interpreter": {
    "hash": "40d3a090f54c6569ab1632332b64b2c03c39dcf918b08424e98f38b5ae0af88f"
   }
  }
 },
 "nbformat": 4,
 "nbformat_minor": 2
}
