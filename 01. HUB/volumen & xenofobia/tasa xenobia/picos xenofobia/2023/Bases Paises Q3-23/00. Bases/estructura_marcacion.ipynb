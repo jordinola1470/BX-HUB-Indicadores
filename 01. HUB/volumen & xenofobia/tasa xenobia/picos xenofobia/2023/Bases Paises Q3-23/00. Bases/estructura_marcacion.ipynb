{
 "cells": [
  {
   "cell_type": "code",
   "execution_count": 10,
   "metadata": {},
   "outputs": [],
   "source": [
    "import pandas as pd\n",
    "import re\n",
    "\n",
    "import warnings\n",
    "warnings.filterwarnings('ignore')"
   ]
  },
  {
   "cell_type": "code",
   "execution_count": 11,
   "metadata": {},
   "outputs": [],
   "source": [
    "#BASES\n",
    "colombia = pd.read_excel(r'C:\\Users\\Dell\\Documents\\BX-HUB-Indicadores\\BX-HUB-Indicadores\\Picos Xenofobia\\Bases Paises Q3-23\\202303_Colombia.xlsx',header=6) \n",
    "peru     = pd.read_excel(r'C:\\Users\\Dell\\Documents\\BX-HUB-Indicadores\\BX-HUB-Indicadores\\Picos Xenofobia\\Bases Paises Q3-23\\202303_Peru.xlsx',header=6)\n",
    "ecuador  = pd.read_excel(r'C:\\Users\\Dell\\Documents\\BX-HUB-Indicadores\\BX-HUB-Indicadores\\Picos Xenofobia\\Bases Paises Q3-23\\202303_Ecuador.xlsx',header=6)"
   ]
  },
  {
   "cell_type": "code",
   "execution_count": 12,
   "metadata": {},
   "outputs": [],
   "source": [
    "#FUNCION\n",
    "def picos_xenofobia(df):\n",
    "    df[['Llamados a la acción',\t'Sanciones Judiciales',\t'Insultos','No es Xenofobia']] = 0 \n",
    "    df = df[['Date', 'Title', 'Snippet',    \n",
    "            'Llamados a la acción',\t'Sanciones Judiciales',\t'Insultos','No es Xenofobia',\n",
    "            'Impact', 'Impressions']]\n",
    "    return df"
   ]
  },
  {
   "cell_type": "code",
   "execution_count": 13,
   "metadata": {},
   "outputs": [],
   "source": [
    "#ESTRUCTURA DE BASES\n",
    "picos_xenofobia_colombia,picos_xenofobia_ecuador,picos_xenofobia_peru = picos_xenofobia(colombia),picos_xenofobia(ecuador),picos_xenofobia(peru)"
   ]
  },
  {
   "cell_type": "code",
   "execution_count": 14,
   "metadata": {},
   "outputs": [],
   "source": [
    "#LIMPIEZA LINK\n",
    "\n",
    "def extraer_enlace(texto):\n",
    "    enlace = re.search(r'(https?://\\S+)', texto)\n",
    "    if enlace:\n",
    "        return enlace.group(0)\n",
    "    else:\n",
    "        return None\n"
   ]
  },
  {
   "cell_type": "code",
   "execution_count": 15,
   "metadata": {},
   "outputs": [],
   "source": [
    "picos_xenofobia_colombia['URL'] = picos_xenofobia_colombia['Title'].apply(extraer_enlace)\n",
    "picos_xenofobia_ecuador['URL'] = picos_xenofobia_ecuador['Title'].apply(extraer_enlace)\n",
    "picos_xenofobia_peru['URL'] = picos_xenofobia_peru['Title'].apply(extraer_enlace)"
   ]
  },
  {
   "cell_type": "code",
   "execution_count": 18,
   "metadata": {},
   "outputs": [],
   "source": [
    "#BASES PARA LA MARCACION EN .XLSX\n",
    "\n",
    "picos_xenofobia_colombia.to_excel(r'C:\\Users\\Dell\\Documents\\BX-HUB-Indicadores\\BX-HUB-Indicadores\\Picos Xenofobia\\Bases Paises Q3-23\\pico_marcacion_colombia.xlsx',index=False)\n",
    "picos_xenofobia_ecuador.to_excel(r'C:\\Users\\Dell\\Documents\\BX-HUB-Indicadores\\BX-HUB-Indicadores\\Picos Xenofobia\\Bases Paises Q3-23\\pico_marcacion_ecuador.xlsx',index=False)\n",
    "picos_xenofobia_peru.to_excel(r'C:\\Users\\Dell\\Documents\\BX-HUB-Indicadores\\BX-HUB-Indicadores\\Picos Xenofobia\\Bases Paises Q3-23\\pico_marcacion_peru.xlsx',index=False)"
   ]
  }
 ],
 "metadata": {
  "kernelspec": {
   "display_name": "Python 3",
   "language": "python",
   "name": "python3"
  },
  "language_info": {
   "codemirror_mode": {
    "name": "ipython",
    "version": 3
   },
   "file_extension": ".py",
   "mimetype": "text/x-python",
   "name": "python",
   "nbconvert_exporter": "python",
   "pygments_lexer": "ipython3",
   "version": "3.11.5"
  },
  "orig_nbformat": 4,
  "vscode": {
   "interpreter": {
    "hash": "40d3a090f54c6569ab1632332b64b2c03c39dcf918b08424e98f38b5ae0af88f"
   }
  }
 },
 "nbformat": 4,
 "nbformat_minor": 2
}
