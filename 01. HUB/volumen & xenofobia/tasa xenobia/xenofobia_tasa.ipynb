{
 "cells": [
  {
   "cell_type": "code",
   "execution_count": null,
   "metadata": {},
   "outputs": [],
   "source": [
    "import pandas as pd"
   ]
  },
  {
   "cell_type": "code",
   "execution_count": null,
   "metadata": {},
   "outputs": [],
   "source": [
    "#DATA TRIMESTRAL\n",
    "#Colombia\n",
    "col_querie = pd.read_excel('/Users/admin/Documents/Documentos El Barometro/GitHub/BX-HUB-Indicadores/01. HUB/volumen & xenofobia/bases/2025 Q1/colombia_queries.xlsx',header=9)\n",
    "col_catego = pd.read_excel('/Users/admin/Documents/Documentos El Barometro/GitHub/BX-HUB-Indicadores/01. HUB/volumen & xenofobia/bases/2025 Q1/colombia_categories.xlsx',header=9)\n",
    "\n",
    "# #Ecuador\n",
    "ecu_querie = pd.read_excel('/Users/admin/Documents/Documentos El Barometro/GitHub/BX-HUB-Indicadores/01. HUB/volumen & xenofobia/bases/2025 Q1/ecuador_queries.xlsx',header=9)\n",
    "ecu_catego = pd.read_excel('/Users/admin/Documents/Documentos El Barometro/GitHub/BX-HUB-Indicadores/01. HUB/volumen & xenofobia/bases/2025 Q1/ecuador_categories.xlsx',header=9)\n",
    "\n",
    "#Peru\n",
    "per_querie = pd.read_excel('/Users/admin/Documents/Documentos El Barometro/GitHub/BX-HUB-Indicadores/01. HUB/volumen & xenofobia/bases/2025 Q1/peru_queries.xlsx',header=9)\n",
    "per_catego = pd.read_excel('/Users/admin/Documents/Documentos El Barometro/GitHub/BX-HUB-Indicadores/01. HUB/volumen & xenofobia/bases/2025 Q1/peru_categories.xlsx',header=9)\n",
    "\n",
    "#Chile\n",
    "chi_querie = pd.read_excel('/Users/admin/Documents/Documentos El Barometro/GitHub/BX-HUB-Indicadores/01. HUB/volumen & xenofobia/bases/2025 Q1/chile_queries.xlsx',header=9)\n",
    "chi_catego = pd.read_excel('/Users/admin/Documents/Documentos El Barometro/GitHub/BX-HUB-Indicadores/01. HUB/volumen & xenofobia/bases/2025 Q1/chile_categories.xlsx',header=9)"
   ]
  },
  {
   "cell_type": "code",
   "execution_count": null,
   "metadata": {},
   "outputs": [],
   "source": [
    "#DATA TRIMESTRAL\n",
    "# #Colombia\n",
    "# col_querie = pd.read_excel('/Users/josealonsoordinolaaucca/Documents/Documentos Barometro Xenofobia/BX-Hub/BX-HUB-Indicadores/01. HUB/volumen & xenofobia/bases/2025 Q1/colombia_queries.xlsx',header=9)\n",
    "# col_catego = pd.read_excel('/Users/josealonsoordinolaaucca/Documents/Documentos Barometro Xenofobia/BX-Hub/BX-HUB-Indicadores/01. HUB/volumen & xenofobia/bases/2025 Q1/colombia_categories.xlsx',header=9)\n",
    "\n",
    "# #Ecuador\n",
    "# ecu_querie = pd.read_excel('/Users/josealonsoordinolaaucca/Documents/Documentos Barometro Xenofobia/BX-Hub/BX-HUB-Indicadores/01. HUB/volumen & xenofobia/bases/2025 Q1/ecuador_queries.xlsx',header=9)\n",
    "# ecu_catego = pd.read_excel('/Users/josealonsoordinolaaucca/Documents/Documentos Barometro Xenofobia/BX-Hub/BX-HUB-Indicadores/01. HUB/volumen & xenofobia/bases/2025 Q1/ecuador_categories.xlsx',header=9)\n",
    "\n",
    "# #Peru\n",
    "# per_querie = pd.read_excel('/Users/josealonsoordinolaaucca/Documents/Documentos Barometro Xenofobia/BX-Hub/BX-HUB-Indicadores/01. HUB/volumen & xenofobia/bases/2025 Q1/peru_queries.xlsx',header=9)\n",
    "# per_catego = pd.read_excel('/Users/josealonsoordinolaaucca/Documents/Documentos Barometro Xenofobia/BX-Hub/BX-HUB-Indicadores/01. HUB/volumen & xenofobia/bases/2025 Q1/peru_categories.xlsx',header=9)\n",
    "\n",
    "# #Chile\n",
    "# chi_querie = pd.read_excel('/Users/josealonsoordinolaaucca/Documents/Documentos Barometro Xenofobia/BX-Hub/BX-HUB-Indicadores/01. HUB/volumen & xenofobia/bases/2025 Q1/chile_queries.xlsx',header=10)\n",
    "# chi_catego = pd.read_excel('/Users/josealonsoordinolaaucca/Documents/Documentos Barometro Xenofobia/BX-Hub/BX-HUB-Indicadores/01. HUB/volumen & xenofobia/bases/2025 Q1/chile_categories.xlsx',header=10)"
   ]
  },
  {
   "cell_type": "code",
   "execution_count": 5,
   "metadata": {},
   "outputs": [],
   "source": [
    "#FUNCIONES\n",
    "\n",
    "def estructura_querie(df_querie, df_catego):\n",
    "\n",
    "    df_catego = df_catego.sort_values('weeks',ascending=False)    \n",
    "\n",
    "    df = pd.concat([df_querie,df_catego])\n",
    "\n",
    "    df.reset_index(inplace=True)\n",
    "    df.drop(index=2,columns='index',inplace=True)\n",
    "    df.set_index('weeks',inplace=True)\n",
    "\n",
    "    for i in range(len(df.columns)):\n",
    "        df.loc['Tasa Xenofobia',df.columns[i]] = (df.loc[df.index[1], df.columns[i]])/(df.loc[df.index[0], df.columns[i]]) if df.loc[df.index[0], df.columns[i]] != 0 else 0\n",
    "    \n",
    "    df_t = df.T\n",
    "    df_t.reset_index(inplace=True)\n",
    "    df_t['index'] = pd.to_datetime(df_t['index'])\n",
    "    \n",
    "    df_t['Mes'] = df_t['index'].dt.month\n",
    "    df_t['Año'] = df_t['index'].dt.year\n",
    "\n",
    "    df_t.columns.name = None\n",
    "    df_t = df_t.rename(columns={'index':'Fecha',df_t.columns[1]:'Volumen Total'})\n",
    "    df_t = df_t[['Fecha','Mes','Año','Volumen Total', 'Xenofobia', 'Tasa Xenofobia', ]] \n",
    "\n",
    "    return df_t"
   ]
  },
  {
   "cell_type": "code",
   "execution_count": 6,
   "metadata": {},
   "outputs": [],
   "source": [
    "#INDICADOR PAIS\n",
    "colombia   = estructura_querie(col_querie,col_catego)\n",
    "chile      = estructura_querie(chi_querie,chi_catego)\n",
    "ecuador    = estructura_querie(ecu_querie,ecu_catego)\n",
    "peru       = estructura_querie(per_querie,per_catego)"
   ]
  },
  {
   "cell_type": "code",
   "execution_count": 7,
   "metadata": {},
   "outputs": [],
   "source": [
    "#EXPORTAR\n",
    "with pd.ExcelWriter('xenofobia_hub_last_update_2025Q1.xlsx') as writer:\n",
    "    \n",
    "    colombia.to_excel(writer,sheet_name='Colombia',index=False)\n",
    "    chile.to_excel(writer,sheet_name='Chile',index=False)\n",
    "    ecuador.to_excel(writer,sheet_name='Ecuador',index=False)\n",
    "    peru.to_excel(writer,sheet_name='Peru',index=False)\n"
   ]
  }
 ],
 "metadata": {
  "kernelspec": {
   "display_name": "Python 3",
   "language": "python",
   "name": "python3"
  },
  "language_info": {
   "codemirror_mode": {
    "name": "ipython",
    "version": 3
   },
   "file_extension": ".py",
   "mimetype": "text/x-python",
   "name": "python",
   "nbconvert_exporter": "python",
   "pygments_lexer": "ipython3",
   "version": "3.11.5"
  },
  "orig_nbformat": 4,
  "vscode": {
   "interpreter": {
    "hash": "40d3a090f54c6569ab1632332b64b2c03c39dcf918b08424e98f38b5ae0af88f"
   }
  }
 },
 "nbformat": 4,
 "nbformat_minor": 2
}
