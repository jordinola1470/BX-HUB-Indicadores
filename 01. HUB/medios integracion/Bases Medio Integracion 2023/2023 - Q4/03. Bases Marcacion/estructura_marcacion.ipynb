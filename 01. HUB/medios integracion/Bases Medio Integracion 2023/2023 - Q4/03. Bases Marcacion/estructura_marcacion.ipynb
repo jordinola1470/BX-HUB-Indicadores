{
 "cells": [
  {
   "cell_type": "code",
   "execution_count": 1,
   "metadata": {},
   "outputs": [],
   "source": [
    "import pandas as pd\n",
    "import warnings\n",
    "warnings.filterwarnings('ignore')"
   ]
  },
  {
   "cell_type": "code",
   "execution_count": 2,
   "metadata": {},
   "outputs": [],
   "source": [
    "#Funcion de Estructura\n",
    "def integracion_medios (df):\n",
    "       df[['Mecanismo 1', 'Mecanismo 2', 'Mecanismo 3']] = 0\n",
    "       \n",
    "       estructura = ['Date', 'Title', 'Snippet', 'Mecanismo 1', 'Mecanismo 2', 'Mecanismo 3',\n",
    "                     'Url', 'Domain', 'Sentiment', 'Country Code', 'Continent Code',\n",
    "                     'Continent', 'Country', 'Author', 'Full Name', 'Gender', 'Impact',\n",
    "                     'Location Name', 'Media URLs', 'Total Monthly Visitors', 'Reach (new)',\n",
    "                     'Categorias BX v.3 - Integracion',\n",
    "                     'Categorias BX v.3 - Xenofobia']\n",
    "       \n",
    "       df = df[estructura]\n",
    "       return df"
   ]
  },
  {
   "cell_type": "code",
   "execution_count": 3,
   "metadata": {},
   "outputs": [],
   "source": [
    "#Bases BW\n",
    "\n",
    "#Colombia\n",
    "medios_col = pd.read_excel(r'C:\\Users\\Dell\\Documents\\BX-HUB-Indicadores\\BX-HUB-Indicadores\\Medios Integracion\\Bases Medio Integracion 2023\\2023 - Q3\\01. Colombia\\mentions_medios_colombia.xlsx',header=6)\n",
    "author_col = pd.read_excel(r'C:\\Users\\Dell\\Documents\\BX-HUB-Indicadores\\BX-HUB-Indicadores\\Medios Integracion\\Bases Medio Integracion 2023\\2023 - Q3\\01. Colombia\\mentions_autores_colombia.xlsx',header=6)\n",
    "\n",
    "#Ecuador\n",
    "medios_ecu = pd.read_excel(r'C:\\Users\\Dell\\Documents\\BX-HUB-Indicadores\\BX-HUB-Indicadores\\Medios Integracion\\Bases Medio Integracion 2023\\2023 - Q3\\02. Ecuador\\mentions_medios_ecuador.xlsx',header=6)\n",
    "author_ecu = pd.read_excel(r'C:\\Users\\Dell\\Documents\\BX-HUB-Indicadores\\BX-HUB-Indicadores\\Medios Integracion\\Bases Medio Integracion 2023\\2023 - Q3\\02. Ecuador\\mentions_autores_ecuador.xlsx',header=6)\n",
    "\n",
    "#Peru\n",
    "medios_per = pd.read_excel(r'C:\\Users\\Dell\\Documents\\BX-HUB-Indicadores\\BX-HUB-Indicadores\\Medios Integracion\\Bases Medio Integracion 2023\\2023 - Q3\\00. Peru\\mentions_medios_peru.xlsx',header=6)\n",
    "author_per = pd.read_excel(r'C:\\Users\\Dell\\Documents\\BX-HUB-Indicadores\\BX-HUB-Indicadores\\Medios Integracion\\Bases Medio Integracion 2023\\2023 - Q3\\00. Peru\\mentions_autores_peru.xlsx',header=6)"
   ]
  },
  {
   "cell_type": "code",
   "execution_count": 4,
   "metadata": {},
   "outputs": [
    {
     "ename": "KeyError",
     "evalue": "\"['Categorias BX v.3 - Integracion'] not in index\"",
     "output_type": "error",
     "traceback": [
      "\u001b[1;31m---------------------------------------------------------------------------\u001b[0m",
      "\u001b[1;31mKeyError\u001b[0m                                  Traceback (most recent call last)",
      "Cell \u001b[1;32mIn[4], line 2\u001b[0m\n\u001b[0;32m      1\u001b[0m \u001b[38;5;66;03m#Estructura\u001b[39;00m\n\u001b[1;32m----> 2\u001b[0m noticias_int_blogs_colombia, noticias_int_blogs_ecuador,noticias_int_blogs_peru \u001b[38;5;241m=\u001b[39m integracion_medios(medios_col),\u001b[43mintegracion_medios\u001b[49m\u001b[43m(\u001b[49m\u001b[43mmedios_ecu\u001b[49m\u001b[43m)\u001b[49m,integracion_medios(medios_per)\n\u001b[0;32m      3\u001b[0m noticias_int_twitter_colombia, noticias_int_twitter_ecuador,noticias_int_twitter_peru \u001b[38;5;241m=\u001b[39m integracion_medios(author_col),integracion_medios(author_ecu),integracion_medios(author_per)\n\u001b[0;32m      5\u001b[0m \u001b[38;5;66;03m#Export to .xlsx files\u001b[39;00m\n\u001b[0;32m      6\u001b[0m \n\u001b[0;32m      7\u001b[0m \u001b[38;5;66;03m# Blogs\u001b[39;00m\n",
      "Cell \u001b[1;32mIn[2], line 12\u001b[0m, in \u001b[0;36mintegracion_medios\u001b[1;34m(df)\u001b[0m\n\u001b[0;32m      3\u001b[0m df[[\u001b[38;5;124m'\u001b[39m\u001b[38;5;124mMecanismo 1\u001b[39m\u001b[38;5;124m'\u001b[39m, \u001b[38;5;124m'\u001b[39m\u001b[38;5;124mMecanismo 2\u001b[39m\u001b[38;5;124m'\u001b[39m, \u001b[38;5;124m'\u001b[39m\u001b[38;5;124mMecanismo 3\u001b[39m\u001b[38;5;124m'\u001b[39m]] \u001b[38;5;241m=\u001b[39m \u001b[38;5;241m0\u001b[39m\n\u001b[0;32m      5\u001b[0m estructura \u001b[38;5;241m=\u001b[39m [\u001b[38;5;124m'\u001b[39m\u001b[38;5;124mDate\u001b[39m\u001b[38;5;124m'\u001b[39m, \u001b[38;5;124m'\u001b[39m\u001b[38;5;124mTitle\u001b[39m\u001b[38;5;124m'\u001b[39m, \u001b[38;5;124m'\u001b[39m\u001b[38;5;124mSnippet\u001b[39m\u001b[38;5;124m'\u001b[39m, \u001b[38;5;124m'\u001b[39m\u001b[38;5;124mMecanismo 1\u001b[39m\u001b[38;5;124m'\u001b[39m, \u001b[38;5;124m'\u001b[39m\u001b[38;5;124mMecanismo 2\u001b[39m\u001b[38;5;124m'\u001b[39m, \u001b[38;5;124m'\u001b[39m\u001b[38;5;124mMecanismo 3\u001b[39m\u001b[38;5;124m'\u001b[39m,\n\u001b[0;32m      6\u001b[0m               \u001b[38;5;124m'\u001b[39m\u001b[38;5;124mUrl\u001b[39m\u001b[38;5;124m'\u001b[39m, \u001b[38;5;124m'\u001b[39m\u001b[38;5;124mDomain\u001b[39m\u001b[38;5;124m'\u001b[39m, \u001b[38;5;124m'\u001b[39m\u001b[38;5;124mSentiment\u001b[39m\u001b[38;5;124m'\u001b[39m, \u001b[38;5;124m'\u001b[39m\u001b[38;5;124mCountry Code\u001b[39m\u001b[38;5;124m'\u001b[39m, \u001b[38;5;124m'\u001b[39m\u001b[38;5;124mContinent Code\u001b[39m\u001b[38;5;124m'\u001b[39m,\n\u001b[0;32m      7\u001b[0m               \u001b[38;5;124m'\u001b[39m\u001b[38;5;124mContinent\u001b[39m\u001b[38;5;124m'\u001b[39m, \u001b[38;5;124m'\u001b[39m\u001b[38;5;124mCountry\u001b[39m\u001b[38;5;124m'\u001b[39m, \u001b[38;5;124m'\u001b[39m\u001b[38;5;124mAuthor\u001b[39m\u001b[38;5;124m'\u001b[39m, \u001b[38;5;124m'\u001b[39m\u001b[38;5;124mFull Name\u001b[39m\u001b[38;5;124m'\u001b[39m, \u001b[38;5;124m'\u001b[39m\u001b[38;5;124mGender\u001b[39m\u001b[38;5;124m'\u001b[39m, \u001b[38;5;124m'\u001b[39m\u001b[38;5;124mImpact\u001b[39m\u001b[38;5;124m'\u001b[39m,\n\u001b[0;32m      8\u001b[0m               \u001b[38;5;124m'\u001b[39m\u001b[38;5;124mLocation Name\u001b[39m\u001b[38;5;124m'\u001b[39m, \u001b[38;5;124m'\u001b[39m\u001b[38;5;124mMedia URLs\u001b[39m\u001b[38;5;124m'\u001b[39m, \u001b[38;5;124m'\u001b[39m\u001b[38;5;124mTotal Monthly Visitors\u001b[39m\u001b[38;5;124m'\u001b[39m, \u001b[38;5;124m'\u001b[39m\u001b[38;5;124mReach (new)\u001b[39m\u001b[38;5;124m'\u001b[39m,\n\u001b[0;32m      9\u001b[0m               \u001b[38;5;124m'\u001b[39m\u001b[38;5;124mCategorias BX v.3 - Integracion\u001b[39m\u001b[38;5;124m'\u001b[39m,\n\u001b[0;32m     10\u001b[0m               \u001b[38;5;124m'\u001b[39m\u001b[38;5;124mCategorias BX v.3 - Xenofobia\u001b[39m\u001b[38;5;124m'\u001b[39m]\n\u001b[1;32m---> 12\u001b[0m df \u001b[38;5;241m=\u001b[39m \u001b[43mdf\u001b[49m\u001b[43m[\u001b[49m\u001b[43mestructura\u001b[49m\u001b[43m]\u001b[49m\n\u001b[0;32m     13\u001b[0m \u001b[38;5;28;01mreturn\u001b[39;00m df\n",
      "File \u001b[1;32mc:\\Users\\Dell\\AppData\\Local\\Programs\\Python\\Python311\\Lib\\site-packages\\pandas\\core\\frame.py:3902\u001b[0m, in \u001b[0;36mDataFrame.__getitem__\u001b[1;34m(self, key)\u001b[0m\n\u001b[0;32m   3900\u001b[0m     \u001b[38;5;28;01mif\u001b[39;00m is_iterator(key):\n\u001b[0;32m   3901\u001b[0m         key \u001b[38;5;241m=\u001b[39m \u001b[38;5;28mlist\u001b[39m(key)\n\u001b[1;32m-> 3902\u001b[0m     indexer \u001b[38;5;241m=\u001b[39m \u001b[38;5;28;43mself\u001b[39;49m\u001b[38;5;241;43m.\u001b[39;49m\u001b[43mcolumns\u001b[49m\u001b[38;5;241;43m.\u001b[39;49m\u001b[43m_get_indexer_strict\u001b[49m\u001b[43m(\u001b[49m\u001b[43mkey\u001b[49m\u001b[43m,\u001b[49m\u001b[43m \u001b[49m\u001b[38;5;124;43m\"\u001b[39;49m\u001b[38;5;124;43mcolumns\u001b[39;49m\u001b[38;5;124;43m\"\u001b[39;49m\u001b[43m)\u001b[49m[\u001b[38;5;241m1\u001b[39m]\n\u001b[0;32m   3904\u001b[0m \u001b[38;5;66;03m# take() does not accept boolean indexers\u001b[39;00m\n\u001b[0;32m   3905\u001b[0m \u001b[38;5;28;01mif\u001b[39;00m \u001b[38;5;28mgetattr\u001b[39m(indexer, \u001b[38;5;124m\"\u001b[39m\u001b[38;5;124mdtype\u001b[39m\u001b[38;5;124m\"\u001b[39m, \u001b[38;5;28;01mNone\u001b[39;00m) \u001b[38;5;241m==\u001b[39m \u001b[38;5;28mbool\u001b[39m:\n",
      "File \u001b[1;32mc:\\Users\\Dell\\AppData\\Local\\Programs\\Python\\Python311\\Lib\\site-packages\\pandas\\core\\indexes\\base.py:6114\u001b[0m, in \u001b[0;36mIndex._get_indexer_strict\u001b[1;34m(self, key, axis_name)\u001b[0m\n\u001b[0;32m   6111\u001b[0m \u001b[38;5;28;01melse\u001b[39;00m:\n\u001b[0;32m   6112\u001b[0m     keyarr, indexer, new_indexer \u001b[38;5;241m=\u001b[39m \u001b[38;5;28mself\u001b[39m\u001b[38;5;241m.\u001b[39m_reindex_non_unique(keyarr)\n\u001b[1;32m-> 6114\u001b[0m \u001b[38;5;28;43mself\u001b[39;49m\u001b[38;5;241;43m.\u001b[39;49m\u001b[43m_raise_if_missing\u001b[49m\u001b[43m(\u001b[49m\u001b[43mkeyarr\u001b[49m\u001b[43m,\u001b[49m\u001b[43m \u001b[49m\u001b[43mindexer\u001b[49m\u001b[43m,\u001b[49m\u001b[43m \u001b[49m\u001b[43maxis_name\u001b[49m\u001b[43m)\u001b[49m\n\u001b[0;32m   6116\u001b[0m keyarr \u001b[38;5;241m=\u001b[39m \u001b[38;5;28mself\u001b[39m\u001b[38;5;241m.\u001b[39mtake(indexer)\n\u001b[0;32m   6117\u001b[0m \u001b[38;5;28;01mif\u001b[39;00m \u001b[38;5;28misinstance\u001b[39m(key, Index):\n\u001b[0;32m   6118\u001b[0m     \u001b[38;5;66;03m# GH 42790 - Preserve name from an Index\u001b[39;00m\n",
      "File \u001b[1;32mc:\\Users\\Dell\\AppData\\Local\\Programs\\Python\\Python311\\Lib\\site-packages\\pandas\\core\\indexes\\base.py:6178\u001b[0m, in \u001b[0;36mIndex._raise_if_missing\u001b[1;34m(self, key, indexer, axis_name)\u001b[0m\n\u001b[0;32m   6175\u001b[0m     \u001b[38;5;28;01mraise\u001b[39;00m \u001b[38;5;167;01mKeyError\u001b[39;00m(\u001b[38;5;124mf\u001b[39m\u001b[38;5;124m\"\u001b[39m\u001b[38;5;124mNone of [\u001b[39m\u001b[38;5;132;01m{\u001b[39;00mkey\u001b[38;5;132;01m}\u001b[39;00m\u001b[38;5;124m] are in the [\u001b[39m\u001b[38;5;132;01m{\u001b[39;00maxis_name\u001b[38;5;132;01m}\u001b[39;00m\u001b[38;5;124m]\u001b[39m\u001b[38;5;124m\"\u001b[39m)\n\u001b[0;32m   6177\u001b[0m not_found \u001b[38;5;241m=\u001b[39m \u001b[38;5;28mlist\u001b[39m(ensure_index(key)[missing_mask\u001b[38;5;241m.\u001b[39mnonzero()[\u001b[38;5;241m0\u001b[39m]]\u001b[38;5;241m.\u001b[39munique())\n\u001b[1;32m-> 6178\u001b[0m \u001b[38;5;28;01mraise\u001b[39;00m \u001b[38;5;167;01mKeyError\u001b[39;00m(\u001b[38;5;124mf\u001b[39m\u001b[38;5;124m\"\u001b[39m\u001b[38;5;132;01m{\u001b[39;00mnot_found\u001b[38;5;132;01m}\u001b[39;00m\u001b[38;5;124m not in index\u001b[39m\u001b[38;5;124m\"\u001b[39m)\n",
      "\u001b[1;31mKeyError\u001b[0m: \"['Categorias BX v.3 - Integracion'] not in index\""
     ]
    }
   ],
   "source": [
    "#Estructura\n",
    "noticias_int_blogs_colombia, noticias_int_blogs_ecuador,noticias_int_blogs_peru = integracion_medios(medios_col),integracion_medios(medios_ecu),integracion_medios(medios_per)\n",
    "noticias_int_twitter_colombia, noticias_int_twitter_ecuador,noticias_int_twitter_peru = integracion_medios(author_col),integracion_medios(author_ecu),integracion_medios(author_per)\n",
    "\n",
    "#Export to .xlsx files\n",
    "\n",
    "# Blogs\n",
    "noticias_int_blogs_colombia.to_excel('Marcacion_Colombia_blogs.xlsx',index=False)\n",
    "noticias_int_blogs_ecuador.to_excel('Marcacion_Ecuador_blogs.xlsx',index=False)\n",
    "noticias_int_blogs_peru.to_excel('Marcacion_Peru_blogs.xlsx',index=False)\n",
    "\n",
    "# Twitter\n",
    "noticias_int_twitter_colombia.to_excel('Marcacion_Colombia_twitter.xlsx',index=False)\n",
    "noticias_int_twitter_ecuador.to_excel('Marcacion_Ecuador_twitter.xlsx',index=False)\n",
    "noticias_int_twitter_peru.to_excel('Marcacion_Peru_twitter.xlsx',index=False)"
   ]
  }
 ],
 "metadata": {
  "kernelspec": {
   "display_name": "Python 3",
   "language": "python",
   "name": "python3"
  },
  "language_info": {
   "codemirror_mode": {
    "name": "ipython",
    "version": 3
   },
   "file_extension": ".py",
   "mimetype": "text/x-python",
   "name": "python",
   "nbconvert_exporter": "python",
   "pygments_lexer": "ipython3",
   "version": "3.11.5"
  },
  "orig_nbformat": 4,
  "vscode": {
   "interpreter": {
    "hash": "40d3a090f54c6569ab1632332b64b2c03c39dcf918b08424e98f38b5ae0af88f"
   }
  }
 },
 "nbformat": 4,
 "nbformat_minor": 2
}
