{
 "cells": [
  {
   "cell_type": "code",
   "execution_count": 1,
   "metadata": {},
   "outputs": [],
   "source": [
    "import pandas as pd"
   ]
  },
  {
   "cell_type": "code",
   "execution_count": 2,
   "metadata": {},
   "outputs": [],
   "source": [
    "#COLOMBIA\n",
    "chi_blog = pd.read_excel('Marcacion_Chile_blogs.xlsx')\n",
    "chi_twit = pd.read_excel('Marcacion_Chile_twitter.xlsx')"
   ]
  },
  {
   "cell_type": "code",
   "execution_count": 3,
   "metadata": {},
   "outputs": [],
   "source": [
    "#Funcion de Estructura\n",
    "def estructura_medios (df):\n",
    "\n",
    "       df.rename(columns={'Country':'Pais','Mecanismo 1':'Mecanismo I', 'Mecanismo 2':'Mecanismo II', 'Mecanismo 3':'Mecanismo III'}, inplace=True)\n",
    "       df['Fecha'] = '30/06/2024'\n",
    "       df = df.groupby(by=['Pais', 'Fecha'])[['Mecanismo I', 'Mecanismo II', 'Mecanismo III']].sum()\n",
    "       df = df.reset_index()\n",
    "       df = pd.melt(df,id_vars=['Pais','Fecha'],value_vars=['Mecanismo I', 'Mecanismo II', 'Mecanismo III'],value_name='Dato',var_name='Variable')\n",
    "       df = df[['Pais','Variable', 'Fecha','Dato']]\n",
    "\n",
    "       return df"
   ]
  },
  {
   "cell_type": "code",
   "execution_count": 4,
   "metadata": {},
   "outputs": [],
   "source": [
    "#BLOGS\n",
    "blog_chile = estructura_medios(chi_blog)\n",
    "\n",
    "#TWITTER\n",
    "twitter_chile = estructura_medios(chi_twit)\n",
    " "
   ]
  },
  {
   "cell_type": "code",
   "execution_count": 5,
   "metadata": {},
   "outputs": [],
   "source": [
    "blog_chile.to_csv('bloqs_q1.csv',index=False)\n",
    "twitter_chile.to_csv('twitter_q1.csv',index=False)"
   ]
  }
 ],
 "metadata": {
  "kernelspec": {
   "display_name": "Python 3",
   "language": "python",
   "name": "python3"
  },
  "language_info": {
   "codemirror_mode": {
    "name": "ipython",
    "version": 3
   },
   "file_extension": ".py",
   "mimetype": "text/x-python",
   "name": "python",
   "nbconvert_exporter": "python",
   "pygments_lexer": "ipython3",
   "version": "3.11.5"
  },
  "orig_nbformat": 4,
  "vscode": {
   "interpreter": {
    "hash": "40d3a090f54c6569ab1632332b64b2c03c39dcf918b08424e98f38b5ae0af88f"
   }
  }
 },
 "nbformat": 4,
 "nbformat_minor": 2
}
