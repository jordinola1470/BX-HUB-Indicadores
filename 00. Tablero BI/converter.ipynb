{
 "cells": [
  {
   "cell_type": "code",
   "execution_count": 9,
   "metadata": {},
   "outputs": [],
   "source": [
    "import json\n",
    "\n",
    "# Cargar el archivo JSON\n",
    "with open('peru_departamental_simple.geojson', 'r') as file:\n",
    "    data = json.load(file)\n",
    "\n",
    "# Filtrar solo los polígonos con un valor específico en 'NOMBDEP'\n",
    "nombre_deseado = 'AMAZONAS'\n",
    "filtrados = [feature for feature in data['features'] if feature['properties']['NOMBDEP'] == nombre_deseado]\n",
    "\n",
    "# Crear un nuevo objeto JSON con los datos filtrados\n",
    "resultado = {\n",
    "    \"type\": \"FeatureCollection\",\n",
    "    \"features\": filtrados\n",
    "}\n",
    "\n",
    "# Guardar el nuevo JSON filtrado en un archivo\n",
    "with open('provincias_filtradas.json', 'w') as file:\n",
    "    json.dump(resultado, file, indent=4)"
   ]
  }
 ],
 "metadata": {
  "kernelspec": {
   "display_name": "Python 3",
   "language": "python",
   "name": "python3"
  },
  "language_info": {
   "codemirror_mode": {
    "name": "ipython",
    "version": 3
   },
   "file_extension": ".py",
   "mimetype": "text/x-python",
   "name": "python",
   "nbconvert_exporter": "python",
   "pygments_lexer": "ipython3",
   "version": "3.11.5"
  }
 },
 "nbformat": 4,
 "nbformat_minor": 2
}
