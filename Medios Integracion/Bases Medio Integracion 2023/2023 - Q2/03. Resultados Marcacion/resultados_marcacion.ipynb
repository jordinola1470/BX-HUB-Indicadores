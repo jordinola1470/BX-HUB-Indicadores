{
 "cells": [
  {
   "cell_type": "code",
   "execution_count": 59,
   "metadata": {},
   "outputs": [],
   "source": [
    "import pandas as pd"
   ]
  },
  {
   "cell_type": "code",
   "execution_count": 60,
   "metadata": {},
   "outputs": [],
   "source": [
    "#COLOMBIA\n",
    "col_blog = pd.read_excel('Marcacion_Colombia_blogs.xlsx')\n",
    "col_twit = pd.read_excel('Marcacion_Colombia_twitter.xlsx')\n",
    "\n",
    "#ECUADOR\n",
    "ecu_blog = pd.read_excel('Marcacion_Ecuador_blogs.xlsx')\n",
    "ecu_twit = pd.read_excel('Marcacion_Ecuador_twitter.xlsx')\n",
    "\n",
    "#PERU\n",
    "per_blog = pd.read_excel('Marcacion_Peru_blogs.xlsx')\n",
    "per_twit = pd.read_excel('Marcacion_Peru_twitter.xlsx')\n"
   ]
  },
  {
   "cell_type": "code",
   "execution_count": 61,
   "metadata": {},
   "outputs": [],
   "source": [
    "#Funcion de Estructura\n",
    "def estructura_medios (df):\n",
    "\n",
    "       df.rename(columns={'Country':'Pais','Mecanismo 1':'Mecanismo I', 'Mecanismo 2':'Mecanismo II', 'Mecanismo 3':'Mecanismo III'}, inplace=True)\n",
    "       df['Fecha'] = '30/06/2023'\n",
    "       df = df.groupby(by=['Pais', 'Fecha'])[['Mecanismo I', 'Mecanismo II', 'Mecanismo III']].sum()\n",
    "       df = df.reset_index()\n",
    "       df = pd.melt(df,id_vars=['Pais','Fecha'],value_vars=['Mecanismo I', 'Mecanismo II', 'Mecanismo III'],value_name='Dato',var_name='Variable')\n",
    "       df = df[['Pais','Variable', 'Fecha','Dato']]\n",
    "\n",
    "       return df"
   ]
  },
  {
   "cell_type": "code",
   "execution_count": 62,
   "metadata": {},
   "outputs": [],
   "source": [
    "#BLOGS\n",
    "col_blog,ecu_blog,per_blog = estructura_medios(col_blog),estructura_medios(ecu_blog),estructura_medios(per_blog)\n",
    "blog = pd.concat([col_blog,ecu_blog,per_blog])\n",
    "\n",
    "#TWITTER\n",
    "col_twit,ecu_twit,per_twit = estructura_medios(col_twit),estructura_medios(ecu_twit),estructura_medios(per_twit)\n",
    "twitter = pd.concat([col_twit,ecu_twit,per_twit])"
   ]
  },
  {
   "cell_type": "code",
   "execution_count": 64,
   "metadata": {},
   "outputs": [],
   "source": [
    "blog.to_csv('bloqs_q2.csv',index=False)\n",
    "twitter.to_csv('twitter_q2.csv',index=False)"
   ]
  }
 ],
 "metadata": {
  "kernelspec": {
   "display_name": "Python 3",
   "language": "python",
   "name": "python3"
  },
  "language_info": {
   "codemirror_mode": {
    "name": "ipython",
    "version": 3
   },
   "file_extension": ".py",
   "mimetype": "text/x-python",
   "name": "python",
   "nbconvert_exporter": "python",
   "pygments_lexer": "ipython3",
   "version": "3.11.5"
  },
  "orig_nbformat": 4,
  "vscode": {
   "interpreter": {
    "hash": "40d3a090f54c6569ab1632332b64b2c03c39dcf918b08424e98f38b5ae0af88f"
   }
  }
 },
 "nbformat": 4,
 "nbformat_minor": 2
}
