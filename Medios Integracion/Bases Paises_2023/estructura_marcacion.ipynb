{
 "cells": [
  {
   "cell_type": "code",
   "execution_count": 32,
   "metadata": {},
   "outputs": [],
   "source": [
    "import pandas as pd\n",
    "import warnings\n",
    "warnings.filterwarnings('ignore')"
   ]
  },
  {
   "cell_type": "code",
   "execution_count": 33,
   "metadata": {},
   "outputs": [],
   "source": [
    "#Funcion de Estructura\n",
    "def integracion_medios (df):\n",
    "       df[['Mecanismo 1', 'Mecanismo 2', 'Mecanismo 3']] = 0\n",
    "       \n",
    "       estructura = ['Date', 'Title', 'Snippet', 'Mecanismo 1', 'Mecanismo 2', 'Mecanismo 3',\n",
    "                     'Url', 'Domain', 'Sentiment', 'Country Code', 'Continent Code',\n",
    "                     'Continent', 'Country', 'Author', 'Full Name', 'Gender', 'Impact',\n",
    "                     'Location Name', 'Media URLs', 'Total Monthly Visitors', 'Reach (new)',\n",
    "                     'Categorias BX v.3 - Integracion',\n",
    "                     'Categorias BX v.3 - Xenofobia']\n",
    "       \n",
    "       df = df[estructura]\n",
    "       return df"
   ]
  },
  {
   "cell_type": "code",
   "execution_count": 34,
   "metadata": {},
   "outputs": [],
   "source": [
    "#Bases BW\n",
    "\n",
    "#Colombia\n",
    "medios_col = pd.read_excel(r'C:\\Users\\Dell\\Documents\\BX-HUB-Indicadores\\BX-HUB-Indicadores\\Medios Integracion\\Bases Paises_2023\\Colombia\\Q3\\mentions_medios_colombia.xlsx',header=6)\n",
    "author_col = pd.read_excel(r'C:\\Users\\Dell\\Documents\\BX-HUB-Indicadores\\BX-HUB-Indicadores\\Medios Integracion\\Bases Paises_2023\\Colombia\\Q3\\mentions_autores_colombia.xlsx',header=6)\n",
    "\n",
    "#Ecuador\n",
    "medios_ecu = pd.read_excel(r'C:\\Users\\Dell\\Documents\\BX-HUB-Indicadores\\BX-HUB-Indicadores\\Medios Integracion\\Bases Paises_2023\\Ecuador\\Q3\\mentions_medios_ecuador.xlsx',header=6)\n",
    "author_ecu = pd.read_excel(r'C:\\Users\\Dell\\Documents\\BX-HUB-Indicadores\\BX-HUB-Indicadores\\Medios Integracion\\Bases Paises_2023\\Ecuador\\Q3\\mentions_autores_ecuador.xlsx',header=6)\n",
    "\n",
    "#Peru\n",
    "medios_per = pd.read_excel(r'C:\\Users\\Dell\\Documents\\BX-HUB-Indicadores\\BX-HUB-Indicadores\\Medios Integracion\\Bases Paises_2023\\Peru\\Q3\\mentions_medios_peru.xlsx',header=6)\n",
    "author_per = pd.read_excel(r'C:\\Users\\Dell\\Documents\\BX-HUB-Indicadores\\BX-HUB-Indicadores\\Medios Integracion\\Bases Paises_2023\\Peru\\Q3\\mentions_medios_peru.xlsx',header=6)"
   ]
  },
  {
   "cell_type": "code",
   "execution_count": 35,
   "metadata": {},
   "outputs": [],
   "source": [
    "#Estructura\n",
    "noticias_int_blogs_colombia, noticias_int_blogs_ecuador,noticias_int_blogs_peru = integracion_medios(medios_col),integracion_medios(medios_ecu),integracion_medios(medios_per)\n",
    "noticias_int_twitter_colombia, noticias_int_twitter_ecuador,noticias_int_twitter_peru = integracion_medios(author_col),integracion_medios(author_ecu),integracion_medios(author_per)\n",
    "\n",
    "#Export to .xlsx files\n",
    "\n",
    "# Blogs\n",
    "noticias_int_blogs_colombia.to_excel('Marcacion_Colombia_blogs.xlsx',index=False)\n",
    "noticias_int_blogs_ecuador.to_excel('Marcacion_Ecuador_blogs.xlsx',index=False)\n",
    "noticias_int_blogs_peru.to_excel('Marcacion_Peru_blogs.xlsx',index=False)\n",
    "\n",
    "# Twitter\n",
    "noticias_int_twitter_colombia.to_excel('Marcacion_Colombia_twitter.xlsx',index=False)\n",
    "noticias_int_twitter_ecuador.to_excel('Marcacion_Ecuador_twitter.xlsx',index=False)\n",
    "noticias_int_twitter_peru.to_excel('Marcacion_Peru_twitter.xlsx',index=False)"
   ]
  }
 ],
 "metadata": {
  "kernelspec": {
   "display_name": "Python 3",
   "language": "python",
   "name": "python3"
  },
  "language_info": {
   "codemirror_mode": {
    "name": "ipython",
    "version": 3
   },
   "file_extension": ".py",
   "mimetype": "text/x-python",
   "name": "python",
   "nbconvert_exporter": "python",
   "pygments_lexer": "ipython3",
   "version": "3.11.5"
  },
  "orig_nbformat": 4,
  "vscode": {
   "interpreter": {
    "hash": "40d3a090f54c6569ab1632332b64b2c03c39dcf918b08424e98f38b5ae0af88f"
   }
  }
 },
 "nbformat": 4,
 "nbformat_minor": 2
}
