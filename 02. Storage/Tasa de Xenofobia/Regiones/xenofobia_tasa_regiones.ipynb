{
 "cells": [
  {
   "cell_type": "code",
   "execution_count": 211,
   "metadata": {},
   "outputs": [],
   "source": [
    "import pandas as pd"
   ]
  },
  {
   "cell_type": "code",
   "execution_count": 212,
   "metadata": {},
   "outputs": [],
   "source": [
    "#DATA TRIMESTRAL\n",
    "#Colombia\n",
    "col_querie = pd.read_excel('Colombia/colombia_region_total.xlsx',header=9)\n",
    "col_catego = pd.read_excel('Colombia/colombia_region_xeno.xlsx',header=10)\n",
    "\n",
    "#Ecuador\n",
    "ecu_querie = pd.read_excel('Ecuador/ecuador_region_total.xlsx',header=9)\n",
    "ecu_catego = pd.read_excel('Ecuador/ecuador_region_xeno.xlsx',header=10)\n",
    "\n",
    "#Peru\n",
    "per_querie = pd.read_excel('Peru/peru_region_total.xlsx',header=9)\n",
    "per_catego = pd.read_excel('Peru/peru_region_xeno.xlsx',header=10)\n"
   ]
  },
  {
   "cell_type": "code",
   "execution_count": 213,
   "metadata": {},
   "outputs": [],
   "source": [
    "#FUNCIONES\n",
    "\n",
    "def estructura_querie(df_querie, df_catego):\n",
    "\n",
    "    def limpieza (df):\n",
    "        df.drop(columns='population',inplace=True)\n",
    "        df = pd.melt(df,id_vars='weeks',\n",
    "                    value_vars=df.columns[1:],\n",
    "                    var_name='Fecha',\n",
    "                    value_name='Total')\n",
    "        \n",
    "        df['Fecha'] = pd.to_datetime(df['Fecha']).dt.date\n",
    "        df['Fecha'] = [str(x) for x in df['Fecha']]\n",
    "        df['ID'] = df['weeks'] + \"_\" + df['Fecha']\n",
    "        df.sort_values(by='ID')\n",
    "\n",
    "        return df \n",
    "# -------------------------------------------------------------------\n",
    "    df_querie,df_catego = limpieza(df_querie),limpieza(df_catego)\n",
    "    \n",
    "    df = pd.merge(left      = df_querie,\n",
    "                  right     = df_catego,\n",
    "                  left_on   = 'ID',\n",
    "                  right_on  = 'ID',\n",
    "                  how = 'inner')\n",
    "    \n",
    "    df.rename(columns={'Total_x':'Total Menciones','Total_y':'Total Xenofobia','Fecha_y':'Fecha'},inplace=True)\n",
    "    df[['Region','Pais']] = df['weeks_x'].str.split(',',expand=True)\n",
    "# -------------------------------------------------------------------\n",
    "    df['Tasa Xeno Regiones'] = df['Total Xenofobia'] / df['Total Menciones']\n",
    "    df['Tasa Xeno Regiones'].fillna(0,inplace=True)\n",
    "# -------------------------------------------------------------------\n",
    "\n",
    "    df = df[['Pais','Region','Fecha','Total Menciones','Total Xenofobia','Tasa Xeno Regiones']]\n",
    "\n",
    "    df.sort_values(by=['Pais'],inplace=True)\n",
    "    df = df[(df['Region']!=(df['Pais'][0].strip())) & (df['Tasa Xeno Regiones'] != 0)]\n",
    "\n",
    "    df.sort_values(by=['Region','Fecha'],inplace=True)\n",
    "\n",
    "    return df"
   ]
  },
  {
   "cell_type": "code",
   "execution_count": 214,
   "metadata": {},
   "outputs": [],
   "source": [
    "#INDICADOR PAIS\n",
    "colombia = estructura_querie(col_querie,col_catego)\n",
    "ecuador = estructura_querie(ecu_querie,ecu_catego)\n",
    "peru = estructura_querie(per_querie,per_catego)"
   ]
  },
  {
   "cell_type": "code",
   "execution_count": 6,
   "metadata": {},
   "outputs": [],
   "source": [
    "#EXPORTAR\n",
    "with pd.ExcelWriter('Tasa Xenofobia Regiones-2023.xlsx') as writer:\n",
    "    \n",
    "    colombia.to_excel(writer,sheet_name='Colombia')\n",
    "    ecuador.to_excel(writer,sheet_name='Ecuador')\n",
    "    peru.to_excel(writer,sheet_name='Peru')\n"
   ]
  }
 ],
 "metadata": {
  "kernelspec": {
   "display_name": "Python 3",
   "language": "python",
   "name": "python3"
  },
  "language_info": {
   "codemirror_mode": {
    "name": "ipython",
    "version": 3
   },
   "file_extension": ".py",
   "mimetype": "text/x-python",
   "name": "python",
   "nbconvert_exporter": "python",
   "pygments_lexer": "ipython3",
   "version": "3.9.13"
  },
  "orig_nbformat": 4,
  "vscode": {
   "interpreter": {
    "hash": "40d3a090f54c6569ab1632332b64b2c03c39dcf918b08424e98f38b5ae0af88f"
   }
  }
 },
 "nbformat": 4,
 "nbformat_minor": 2
}
